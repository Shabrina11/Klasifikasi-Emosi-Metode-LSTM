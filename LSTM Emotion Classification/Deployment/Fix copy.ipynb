{
 "cells": [
  {
   "cell_type": "code",
   "execution_count": 1,
   "id": "8f7ed1d7",
   "metadata": {},
   "outputs": [],
   "source": [
    "import csv\n",
    "import pandas as pd\n",
    "import numpy as np\n",
    "import matplotlib.pyplot as plt\n",
    "import seaborn as sns\n",
    "import nltk\n",
    "import re\n",
    "import tensorflow as tf\n",
    "from tensorflow.keras.preprocessing.text import Tokenizer\n",
    "from tensorflow.keras.preprocessing.sequence import pad_sequences\n",
    "from tensorflow.keras.models import Sequential\n",
    "from tensorflow.keras.layers import Embedding, LSTM, Dense, Dropout, SpatialDropout1D, Bidirectional\n",
    "from tensorflow.keras.callbacks import EarlyStopping\n",
    "from sklearn.preprocessing import LabelEncoder\n",
    "from numpy.random import seed\n",
    "from nltk.tokenize.regexp import regexp_tokenize\n",
    "from nltk.tokenize import RegexpTokenizer\n",
    "seed(1)\n",
    "from tensorflow import random\n",
    "from sklearn.metrics import confusion_matrix, classification_report\n",
    "random.set_seed(1)\n",
    "import matplotlib.pyplot as plt\n",
    "from matplotlib import style\n",
    "style.use('ggplot')\n",
    "from keras.utils import to_categorical\n",
    "from keras.optimizers import Adam"
   ]
  },
  {
   "cell_type": "code",
   "execution_count": 2,
   "id": "64024e03",
   "metadata": {},
   "outputs": [
    {
     "data": {
      "text/html": [
       "<div>\n",
       "<style scoped>\n",
       "    .dataframe tbody tr th:only-of-type {\n",
       "        vertical-align: middle;\n",
       "    }\n",
       "\n",
       "    .dataframe tbody tr th {\n",
       "        vertical-align: top;\n",
       "    }\n",
       "\n",
       "    .dataframe thead th {\n",
       "        text-align: right;\n",
       "    }\n",
       "</style>\n",
       "<table border=\"1\" class=\"dataframe\">\n",
       "  <thead>\n",
       "    <tr style=\"text-align: right;\">\n",
       "      <th></th>\n",
       "      <th>Label</th>\n",
       "      <th>Tweet</th>\n",
       "    </tr>\n",
       "  </thead>\n",
       "  <tbody>\n",
       "    <tr>\n",
       "      <th>0</th>\n",
       "      <td>0</td>\n",
       "      <td>Mau gudeg mbak Bu hj. Amad Foto dari google, s...</td>\n",
       "    </tr>\n",
       "    <tr>\n",
       "      <th>1</th>\n",
       "      <td>0</td>\n",
       "      <td>Sharing pengalaman aja, kemarin jam 18.00 bata...</td>\n",
       "    </tr>\n",
       "    <tr>\n",
       "      <th>2</th>\n",
       "      <td>0</td>\n",
       "      <td>Bener bener ketawa ga habis habis gue Inget aj...</td>\n",
       "    </tr>\n",
       "    <tr>\n",
       "      <th>3</th>\n",
       "      <td>0</td>\n",
       "      <td>H-9. Mau ke bank rame bgt ampe antrian tempat ...</td>\n",
       "    </tr>\n",
       "    <tr>\n",
       "      <th>4</th>\n",
       "      <td>0</td>\n",
       "      <td>Ketika aku tersenyum bukan berarti hidupku sem...</td>\n",
       "    </tr>\n",
       "  </tbody>\n",
       "</table>\n",
       "</div>"
      ],
      "text/plain": [
       "   Label                                              Tweet\n",
       "0      0  Mau gudeg mbak Bu hj. Amad Foto dari google, s...\n",
       "1      0  Sharing pengalaman aja, kemarin jam 18.00 bata...\n",
       "2      0  Bener bener ketawa ga habis habis gue Inget aj...\n",
       "3      0  H-9. Mau ke bank rame bgt ampe antrian tempat ...\n",
       "4      0  Ketika aku tersenyum bukan berarti hidupku sem..."
      ]
     },
     "execution_count": 2,
     "metadata": {},
     "output_type": "execute_result"
    }
   ],
   "source": [
    "# Baca data\n",
    "class file_input():\n",
    "    dataset = pd.read_csv(\"Dataset urut.csv\")\n",
    "\n",
    "inputan = file_input()\n",
    "inputan.dataset.head()"
   ]
  },
  {
   "cell_type": "code",
   "execution_count": 3,
   "id": "94aa10ae",
   "metadata": {},
   "outputs": [
    {
     "data": {
      "text/plain": [
       "0      mau gudeg mbak bu hj  amad foto dari google  s...\n",
       "1      sharing pengalaman aja  kemarin jam   batalin ...\n",
       "2      bener bener ketawa ga habis habis gue inget aj...\n",
       "3      h   mau ke bank rame bgt ampe antrian tempat d...\n",
       "4      ketika aku tersenyum bukan berarti hidupku sem...\n",
       "                             ...                        \n",
       "995    masi ga ngerti kenapa bisa takut ketinggian   ...\n",
       "996      kenapa ya gua takut banget kalo mau ngomong ...\n",
       "997    takut semester ini gak bakalan maksimal  belaj...\n",
       "998    setiap masuk lingkungan baru  selalu serba sal...\n",
       "999    ini karena deket masa pengenalan kampus kan ra...\n",
       "Name: Tweet_clean, Length: 1000, dtype: object"
      ]
     },
     "execution_count": 3,
     "metadata": {},
     "output_type": "execute_result"
    }
   ],
   "source": [
    "#Case Folding & Noise Removal\n",
    "class cleaning():\n",
    "    def clean_text(text):\n",
    "        text = text.lower() # lower case / case folding\n",
    "        text = re.sub(r\"https\\S+|www\\S+https\\S+\", '',text, flags=re.MULTILINE) # hapus url\n",
    "        text = re.sub(r'#[A-Za-z0-9]+','',text) # hapus hastag\n",
    "        text = re.sub(r'@[A-Za-z0-9]+','',text) # hapus mention @\n",
    "        text = re.sub(\"'\", \"\", text) # hapus kutip\n",
    "        text = re.sub('[()!?]', ' ', text) # hapus tanda baca\n",
    "        text = re.sub('\\[.*?\\]',' ', text) # hapus kurung siku\n",
    "        text = re.sub(\"[^a-z0-9]\",\" \", text) # hapus karakter\n",
    "        text = re.sub(r'\\d+', '', text) # hapus angka\n",
    "        return text\n",
    "\n",
    "perbaikan = cleaning()\n",
    "\n",
    "inputan.dataset[\"Tweet_clean\"] = [cleaning.clean_text(i) for i in inputan.dataset[\"Tweet\"]]\n",
    "inputan.dataset[\"Tweet_clean\"]"
   ]
  },
  {
   "cell_type": "code",
   "execution_count": 4,
   "metadata": {},
   "outputs": [
    {
     "data": {
      "text/plain": [
       "0      mau gudeg mbak ibu hj  amad foto dari google  ...\n",
       "1      berbagi pengalaman aja  kemarin jam   batalkan...\n",
       "2      benar benar ketawa tidak habis habis aku ingat...\n",
       "3      h   mau ke bank ramai banget sampai antrian te...\n",
       "4      ketika aku tersenyum bukan berarti hidupku sem...\n",
       "                             ...                        \n",
       "995    masih tidak erti kenapa bisa takut ketinggian ...\n",
       "996      kenapa ya aku takut banget kalo mau omong at...\n",
       "997    takut semester ini tidak bakalan maksimal  bel...\n",
       "998    setiap masuk lingkungan baru  selalu serba sal...\n",
       "999    ini karena deket masa pengenalan kampus kan ra...\n",
       "Name: Tweet_clean, Length: 1000, dtype: object"
      ]
     },
     "execution_count": 4,
     "metadata": {},
     "output_type": "execute_result"
    }
   ],
   "source": [
    "#Normalisasi\n",
    "class normal:\n",
    "    def normalisasi(self, text):\n",
    "        import re\n",
    "\n",
    "        dict_koreksi = {}\n",
    "        file = open(\"list_norm.txt\")\n",
    "        for x in file:\n",
    "            f = x.split(\":\") #memisahkan :\n",
    "            dict_koreksi.update({f[0].strip(): f[1].strip()})\n",
    "\n",
    "        for awal, pengganti in dict_koreksi.items():\n",
    "            text = re.sub(r\"\\b\" + awal + r\"\\b\", pengganti, text)\n",
    "\n",
    "        return text\n",
    "\n",
    "norm = normal()\n",
    "\n",
    "inputan.dataset[\"Tweet_clean\"] = inputan.dataset[\"Tweet_clean\"].apply(norm.normalisasi)\n",
    "inputan.dataset[\"Tweet_clean\"]\n"
   ]
  },
  {
   "cell_type": "code",
   "execution_count": 5,
   "metadata": {},
   "outputs": [
    {
     "data": {
      "text/plain": [
       "0      gudeg amad foto google sengaja teman teman mem...\n",
       "1      berbagi pengalaman kemarin jam batalkan tiket ...\n",
       "2      ketawa habis habis lomba balap karung balap ke...\n",
       "3      bank ramai banget antrian duduknya diluar toko...\n",
       "4            tersenyum hidupku sempurna mensyukuri tuhan\n",
       "                             ...                        \n",
       "995    erti takut ketinggian doyan manjat pohon rumah...\n",
       "996    takut banget omong muncul grup panik muncul gr...\n",
       "997    takut semester maksimal belajar semester pulan...\n",
       "998    masuk lingkungan serba salah takut teman takut...\n",
       "999    deket pengenalan kampus ramai grup takut denga...\n",
       "Name: Tweet_clean, Length: 1000, dtype: object"
      ]
     },
     "execution_count": 5,
     "metadata": {},
     "output_type": "execute_result"
    }
   ],
   "source": [
    "# Filtering\n",
    "class filtering:\n",
    "  def clean_stopword(self, text):\n",
    "    # Stopword Sastrawi\n",
    "    from Sastrawi.StopWordRemover.StopWordRemoverFactory import StopWordRemoverFactory\n",
    "\n",
    "    factory = StopWordRemoverFactory()\n",
    "    stopword_sastrawi = factory.get_stop_words()\n",
    "\n",
    "    text = text.split() # pisah jadi kata per kata\n",
    "    text = [w for w in text if w not in stopword_sastrawi] # hapus stopwords\n",
    "    text = \" \".join(w for w in text) # gabung kata jadi teks\n",
    "\n",
    "    # Stopword NLTK\n",
    "    import nltk\n",
    "    from nltk.corpus import stopwords\n",
    "\n",
    "    stopword_nltk = set(stopwords.words(\"indonesian\")) # set stopwords indonesia\n",
    "    stopword_nltk = stopword_nltk\n",
    "\n",
    "    text = text.split() # pisah jadi kata per kata\n",
    "    text = [w for w in text if w not in stopword_nltk] # hapus stopwords\n",
    "    text = \" \".join(w for w in text) # gabung kata jadi teks\n",
    "    return text\n",
    "\n",
    "# Stopword tambahan\n",
    "  def clean_stopword_tambahan(self, text):\n",
    "    with open(\"list_stopword_tambahan.txt\", \"r\") as f:\n",
    "        stopwords_tambahan = f.read().splitlines()\n",
    "\n",
    "    text = text.split() # pisah jadi kata per kata\n",
    "    text = [w for w in text if w not in stopwords_tambahan] # hapus stopwords\n",
    "    text = \" \".join(w for w in text) # gabung kata jadi teks\n",
    "\n",
    "    return text\n",
    "  \n",
    "bersih = filtering()\n",
    "\n",
    "inputan.dataset[\"Tweet_clean\"] = inputan.dataset[\"Tweet_clean\"].apply(bersih.clean_stopword)\n",
    "inputan.dataset[\"Tweet_clean\"] = inputan.dataset[\"Tweet_clean\"].apply(bersih.clean_stopword_tambahan)\n",
    "inputan.dataset[\"Tweet_clean\"]\n"
   ]
  },
  {
   "cell_type": "code",
   "execution_count": 6,
   "id": "ee14686d",
   "metadata": {},
   "outputs": [
    {
     "data": {
      "text/plain": [
       "0      gudeg amad foto google sengaja teman teman bay...\n",
       "1      bagi alam kemarin jam batal tiket stasiun lanc...\n",
       "2      ketawa habis habis lomba balap karung balap ke...\n",
       "3      bank ramai banget antri duduk luar toko emas l...\n",
       "4                     senyum hidup sempurna syukur tuhan\n",
       "                             ...                        \n",
       "995    erti takut tinggi doyan manjat pohon rumah lih...\n",
       "996    takut banget omong muncul grup panik muncul gr...\n",
       "997    takut semester maksimal ajar semester pulang s...\n",
       "998    masuk lingkung serba salah takut teman takut t...\n",
       "999    deket kenal kampus ramai grup takut dengar not...\n",
       "Name: Tweet_clean, Length: 1000, dtype: object"
      ]
     },
     "execution_count": 6,
     "metadata": {},
     "output_type": "execute_result"
    }
   ],
   "source": [
    "# Stemming\n",
    "class stemming:\n",
    "  def clean_stem(self, text):\n",
    "    # Stemming Sastrawi\n",
    "    from Sastrawi.Stemmer.StemmerFactory import StemmerFactory\n",
    "\n",
    "    factory = StemmerFactory()\n",
    "    stemmer_sastrawi = factory.create_stemmer()\n",
    "\n",
    "    text = stemmer_sastrawi.stem(text)\n",
    "\n",
    "    return text\n",
    "\n",
    "stemmer = stemming()\n",
    "inputan.dataset[\"Tweet_clean\"] = inputan.dataset[\"Tweet_clean\"].apply(stemmer.clean_stem)\n",
    "inputan.dataset[\"Tweet_clean\"]"
   ]
  },
  {
   "cell_type": "code",
   "execution_count": 7,
   "metadata": {},
   "outputs": [
    {
     "data": {
      "text/plain": [
       "0      [gudeg, amad, foto, google, sengaja, teman, te...\n",
       "1      [bagi, alam, kemarin, jam, batal, tiket, stasi...\n",
       "2      [ketawa, habis, habis, lomba, balap, karung, b...\n",
       "3      [bank, ramai, banget, antri, duduk, luar, toko...\n",
       "4               [senyum, hidup, sempurna, syukur, tuhan]\n",
       "                             ...                        \n",
       "995    [erti, takut, tinggi, doyan, manjat, pohon, ru...\n",
       "996    [takut, banget, omong, muncul, grup, panik, mu...\n",
       "997    [takut, semester, maksimal, ajar, semester, pu...\n",
       "998    [masuk, lingkung, serba, salah, takut, teman, ...\n",
       "999    [deket, kenal, kampus, ramai, grup, takut, den...\n",
       "Name: Tweet_clean, Length: 1000, dtype: object"
      ]
     },
     "execution_count": 7,
     "metadata": {},
     "output_type": "execute_result"
    }
   ],
   "source": [
    "class tokenisasi:\n",
    "    def tokenizing(self, text):\n",
    "        text = nltk.word_tokenize(text)\n",
    "\n",
    "        return text\n",
    "    \n",
    "token = tokenisasi()\n",
    "inputan.dataset[\"Tweet_clean\"] = inputan.dataset[\"Tweet_clean\"].apply(token.tokenizing)\n",
    "inputan.dataset[\"Tweet_clean\"]"
   ]
  },
  {
   "cell_type": "code",
   "execution_count": 8,
   "id": "6afe20cb",
   "metadata": {},
   "outputs": [],
   "source": [
    "# Download hasilpreprocessing \n",
    "inputan.dataset[\"Tweet_clean\"]\n",
    "pd.DataFrame(inputan.dataset).to_csv('Hasil Proses.csv', index=False, header=True)"
   ]
  },
  {
   "cell_type": "code",
   "execution_count": 9,
   "id": "13ea80ea",
   "metadata": {},
   "outputs": [
    {
     "name": "stdout",
     "output_type": "stream",
     "text": [
      "[0 1 2 3 4]\n"
     ]
    }
   ],
   "source": [
    "# Print label\n",
    "df = pd.read_csv('Data/Hasil Proses Fix.csv')\n",
    "df.head()\n",
    "print(df['Label'].unique())"
   ]
  },
  {
   "cell_type": "code",
   "execution_count": 10,
   "id": "aac03716",
   "metadata": {},
   "outputs": [],
   "source": [
    "# Memisahkan kolom jadi variabel terpisah\n",
    "labels = df['Label']\n",
    "tweets = df['Tweet_clean']"
   ]
  },
  {
   "cell_type": "code",
   "execution_count": 11,
   "id": "853ea865",
   "metadata": {},
   "outputs": [
    {
     "name": "stdout",
     "output_type": "stream",
     "text": [
      "Label\n",
      "0    200\n",
      "1    200\n",
      "2    200\n",
      "3    200\n",
      "4    200\n",
      "Name: count, dtype: int64\n"
     ]
    }
   ],
   "source": [
    "# Menghitung jumlah label yg muncul\n",
    "teks_count = labels.value_counts()\n",
    "print(labels.value_counts())"
   ]
  },
  {
   "cell_type": "code",
   "execution_count": 12,
   "id": "ecf4e116",
   "metadata": {},
   "outputs": [],
   "source": [
    "# Pembagian data latih dan data uji\n",
    "from sklearn.model_selection import train_test_split\n",
    "X = tweets\n",
    "y = labels\n",
    "# global X_train, X_test, y_train, y_test\n",
    "X_train, X_test, y_train, y_test = train_test_split(X,y, test_size=0.3, stratify=y, random_state=42)"
   ]
  },
  {
   "cell_type": "code",
   "execution_count": 13,
   "id": "86528f3e",
   "metadata": {},
   "outputs": [],
   "source": [
    "# Memetakan setiap kata ke integer\n",
    "tokenizer = Tokenizer()\n",
    "tokenizer.fit_on_texts(X)"
   ]
  },
  {
   "cell_type": "code",
   "execution_count": 14,
   "id": "f4ff7821",
   "metadata": {},
   "outputs": [],
   "source": [
    "# Text to sequence\n",
    "sequences_train = tokenizer.texts_to_sequences(X_train)\n",
    "sequences_test = tokenizer.texts_to_sequences(X_test)\n",
    "sequence = tokenizer.texts_to_sequences(X)\n",
    "max_length = max([len(s) for s in sequence])\n",
    "\n",
    "X_train = pad_sequences(sequences_train, maxlen=max_length)\n",
    "X_test = pad_sequences(sequences_test, maxlen=max_length)"
   ]
  },
  {
   "cell_type": "code",
   "execution_count": 15,
   "id": "4abda858",
   "metadata": {},
   "outputs": [],
   "source": [
    "# one hot encoding\n",
    "y_train = to_categorical(y_train, 5)\n",
    "y_test = to_categorical(y_test, 5)"
   ]
  },
  {
   "cell_type": "code",
   "execution_count": 16,
   "id": "4202c31c",
   "metadata": {},
   "outputs": [
    {
     "name": "stdout",
     "output_type": "stream",
     "text": [
      "Model: \"sequential\"\n",
      "_________________________________________________________________\n",
      " Layer (type)                Output Shape              Param #   \n",
      "=================================================================\n",
      " embedding (Embedding)       (None, None, 64)          640000    \n",
      "                                                                 \n",
      " dropout (Dropout)           (None, None, 64)          0         \n",
      "                                                                 \n",
      " lstm (LSTM)                 (None, 64)                33024     \n",
      "                                                                 \n",
      " dense (Dense)               (None, 5)                 325       \n",
      "                                                                 \n",
      "=================================================================\n",
      "Total params: 673349 (2.57 MB)\n",
      "Trainable params: 673349 (2.57 MB)\n",
      "Non-trainable params: 0 (0.00 Byte)\n",
      "_________________________________________________________________\n"
     ]
    }
   ],
   "source": [
    "# Klasifikasi teks\n",
    "from tensorflow.keras.callbacks import EarlyStopping\n",
    "from keras.optimizers import Adam\n",
    "vocab_size = 10000\n",
    "embedding_dim = 64\n",
    "num_classes = 5\n",
    "model = Sequential()\n",
    "model.add(Embedding(vocab_size, embedding_dim))\n",
    "model.add(Dropout(0.5))\n",
    "model.add(LSTM(embedding_dim))\n",
    "model.add(Dense(units=num_classes, activation='softmax'))\n",
    "optimizer = Adam(learning_rate=0.001)\n",
    "model.compile(\n",
    "    loss='categorical_crossentropy',\n",
    "    optimizer=optimizer,\n",
    "    metrics=['accuracy'],\n",
    ")\n",
    "model.summary()"
   ]
  },
  {
   "cell_type": "code",
   "execution_count": 17,
   "id": "230f3912",
   "metadata": {},
   "outputs": [
    {
     "name": "stdout",
     "output_type": "stream",
     "text": [
      "Epoch 1/50\n",
      "44/44 [==============================] - 17s 74ms/step - loss: 1.6012 - accuracy: 0.3300 - val_loss: 1.5762 - val_accuracy: 0.5800\n",
      "Epoch 2/50\n",
      "44/44 [==============================] - 2s 41ms/step - loss: 1.4559 - accuracy: 0.5700 - val_loss: 1.3102 - val_accuracy: 0.4100\n",
      "Epoch 3/50\n",
      "44/44 [==============================] - 2s 42ms/step - loss: 0.9263 - accuracy: 0.7629 - val_loss: 0.9717 - val_accuracy: 0.6200\n",
      "Epoch 4/50\n",
      "44/44 [==============================] - 2s 35ms/step - loss: 0.4790 - accuracy: 0.8771 - val_loss: 0.8802 - val_accuracy: 0.6867\n",
      "Epoch 5/50\n",
      "44/44 [==============================] - 1s 33ms/step - loss: 0.2513 - accuracy: 0.9386 - val_loss: 0.7656 - val_accuracy: 0.7633\n",
      "Epoch 6/50\n",
      "44/44 [==============================] - 2s 35ms/step - loss: 0.1177 - accuracy: 0.9743 - val_loss: 0.8360 - val_accuracy: 0.7733\n",
      "Epoch 7/50\n",
      "44/44 [==============================] - 1s 34ms/step - loss: 0.0734 - accuracy: 0.9857 - val_loss: 0.9189 - val_accuracy: 0.7533\n",
      "Epoch 8/50\n",
      "44/44 [==============================] - 2s 39ms/step - loss: 0.0408 - accuracy: 0.9943 - val_loss: 0.9040 - val_accuracy: 0.7700\n",
      "Epoch 9/50\n",
      "44/44 [==============================] - 2s 35ms/step - loss: 0.0206 - accuracy: 0.9986 - val_loss: 1.0009 - val_accuracy: 0.7667\n",
      "Epoch 10/50\n",
      "44/44 [==============================] - 2s 34ms/step - loss: 0.0183 - accuracy: 0.9971 - val_loss: 0.9406 - val_accuracy: 0.7800\n",
      "Epoch 11/50\n",
      "44/44 [==============================] - 2s 34ms/step - loss: 0.0122 - accuracy: 0.9986 - val_loss: 1.1198 - val_accuracy: 0.7067\n",
      "Epoch 12/50\n",
      "44/44 [==============================] - 2s 37ms/step - loss: 0.0291 - accuracy: 0.9971 - val_loss: 0.8636 - val_accuracy: 0.7900\n",
      "Epoch 13/50\n",
      "44/44 [==============================] - 2s 39ms/step - loss: 0.0112 - accuracy: 0.9986 - val_loss: 0.9735 - val_accuracy: 0.7633\n",
      "Epoch 14/50\n",
      "44/44 [==============================] - 2s 38ms/step - loss: 0.0351 - accuracy: 0.9900 - val_loss: 1.1023 - val_accuracy: 0.7467\n",
      "Epoch 15/50\n",
      "44/44 [==============================] - 2s 44ms/step - loss: 0.0191 - accuracy: 0.9971 - val_loss: 1.0024 - val_accuracy: 0.7667\n",
      "Epoch 16/50\n",
      "44/44 [==============================] - 2s 39ms/step - loss: 0.0090 - accuracy: 0.9986 - val_loss: 1.1334 - val_accuracy: 0.7433\n",
      "Epoch 17/50\n",
      "44/44 [==============================] - 2s 35ms/step - loss: 0.0192 - accuracy: 0.9971 - val_loss: 1.1161 - val_accuracy: 0.7567\n",
      "Epoch 18/50\n",
      "44/44 [==============================] - 2s 37ms/step - loss: 0.0138 - accuracy: 0.9971 - val_loss: 0.8238 - val_accuracy: 0.7867\n",
      "Epoch 19/50\n",
      "44/44 [==============================] - 2s 41ms/step - loss: 0.0051 - accuracy: 1.0000 - val_loss: 0.8650 - val_accuracy: 0.7800\n",
      "Epoch 20/50\n",
      "44/44 [==============================] - 2s 37ms/step - loss: 0.0032 - accuracy: 1.0000 - val_loss: 0.9353 - val_accuracy: 0.7800\n",
      "Epoch 21/50\n",
      "44/44 [==============================] - 2s 36ms/step - loss: 0.0023 - accuracy: 1.0000 - val_loss: 0.9908 - val_accuracy: 0.7767\n",
      "Epoch 22/50\n",
      "44/44 [==============================] - 2s 35ms/step - loss: 0.0024 - accuracy: 1.0000 - val_loss: 1.0465 - val_accuracy: 0.7767\n",
      "Epoch 23/50\n",
      "44/44 [==============================] - 2s 34ms/step - loss: 0.0017 - accuracy: 1.0000 - val_loss: 1.0995 - val_accuracy: 0.7767\n",
      "Epoch 24/50\n",
      "44/44 [==============================] - 2s 39ms/step - loss: 0.0046 - accuracy: 0.9986 - val_loss: 1.0818 - val_accuracy: 0.7933\n",
      "Epoch 25/50\n",
      "44/44 [==============================] - 2s 39ms/step - loss: 0.0073 - accuracy: 1.0000 - val_loss: 0.9827 - val_accuracy: 0.7733\n",
      "Epoch 26/50\n",
      "44/44 [==============================] - 2s 35ms/step - loss: 0.0074 - accuracy: 0.9986 - val_loss: 0.9739 - val_accuracy: 0.7800\n",
      "Epoch 27/50\n",
      "44/44 [==============================] - 2s 35ms/step - loss: 0.0026 - accuracy: 1.0000 - val_loss: 1.0389 - val_accuracy: 0.7733\n",
      "Epoch 28/50\n",
      "44/44 [==============================] - 2s 35ms/step - loss: 0.0013 - accuracy: 1.0000 - val_loss: 1.0782 - val_accuracy: 0.7800\n",
      "Epoch 29/50\n",
      "44/44 [==============================] - 2s 39ms/step - loss: 9.6206e-04 - accuracy: 1.0000 - val_loss: 1.1137 - val_accuracy: 0.7767\n",
      "Epoch 30/50\n",
      "44/44 [==============================] - 2s 37ms/step - loss: 8.3608e-04 - accuracy: 1.0000 - val_loss: 1.1484 - val_accuracy: 0.7800\n",
      "Epoch 31/50\n",
      "44/44 [==============================] - 2s 35ms/step - loss: 6.9742e-04 - accuracy: 1.0000 - val_loss: 1.1899 - val_accuracy: 0.7767\n",
      "Epoch 32/50\n",
      "44/44 [==============================] - 2s 35ms/step - loss: 6.7419e-04 - accuracy: 1.0000 - val_loss: 1.2390 - val_accuracy: 0.7767\n",
      "Epoch 33/50\n",
      "44/44 [==============================] - 2s 36ms/step - loss: 7.4068e-04 - accuracy: 1.0000 - val_loss: 1.2440 - val_accuracy: 0.7733\n",
      "Epoch 34/50\n",
      "44/44 [==============================] - 2s 38ms/step - loss: 4.8612e-04 - accuracy: 1.0000 - val_loss: 1.2530 - val_accuracy: 0.7667\n",
      "Epoch 35/50\n",
      "44/44 [==============================] - 1s 34ms/step - loss: 5.3390e-04 - accuracy: 1.0000 - val_loss: 1.2863 - val_accuracy: 0.7733\n",
      "Epoch 36/50\n",
      "44/44 [==============================] - 2s 38ms/step - loss: 4.8528e-04 - accuracy: 1.0000 - val_loss: 1.3974 - val_accuracy: 0.7600\n",
      "Epoch 37/50\n",
      "44/44 [==============================] - 2s 35ms/step - loss: 6.8911e-04 - accuracy: 1.0000 - val_loss: 1.3726 - val_accuracy: 0.7633\n",
      "Epoch 38/50\n",
      "44/44 [==============================] - 2s 36ms/step - loss: 5.1807e-04 - accuracy: 1.0000 - val_loss: 1.3341 - val_accuracy: 0.7733\n",
      "Epoch 39/50\n",
      "44/44 [==============================] - 2s 35ms/step - loss: 2.8351e-04 - accuracy: 1.0000 - val_loss: 1.3503 - val_accuracy: 0.7667\n",
      "Epoch 40/50\n",
      "44/44 [==============================] - 2s 36ms/step - loss: 0.0013 - accuracy: 1.0000 - val_loss: 1.2426 - val_accuracy: 0.7633\n",
      "Epoch 41/50\n",
      "44/44 [==============================] - 2s 37ms/step - loss: 0.0015 - accuracy: 1.0000 - val_loss: 1.2023 - val_accuracy: 0.7767\n",
      "Epoch 42/50\n",
      "44/44 [==============================] - 2s 35ms/step - loss: 5.3828e-04 - accuracy: 1.0000 - val_loss: 1.2573 - val_accuracy: 0.7700\n",
      "Epoch 43/50\n",
      "44/44 [==============================] - 2s 38ms/step - loss: 4.4847e-04 - accuracy: 1.0000 - val_loss: 1.3038 - val_accuracy: 0.7700\n",
      "Epoch 44/50\n",
      "44/44 [==============================] - 2s 45ms/step - loss: 2.9293e-04 - accuracy: 1.0000 - val_loss: 1.3230 - val_accuracy: 0.7733\n",
      "Epoch 45/50\n",
      "44/44 [==============================] - 2s 34ms/step - loss: 2.6167e-04 - accuracy: 1.0000 - val_loss: 1.3638 - val_accuracy: 0.7700\n",
      "Epoch 46/50\n",
      "44/44 [==============================] - 1s 34ms/step - loss: 2.9566e-04 - accuracy: 1.0000 - val_loss: 1.3551 - val_accuracy: 0.7600\n",
      "Epoch 47/50\n",
      "44/44 [==============================] - 2s 36ms/step - loss: 1.9324e-04 - accuracy: 1.0000 - val_loss: 1.3740 - val_accuracy: 0.7733\n",
      "Epoch 48/50\n",
      "44/44 [==============================] - 2s 34ms/step - loss: 2.4154e-04 - accuracy: 1.0000 - val_loss: 1.4132 - val_accuracy: 0.7633\n",
      "Epoch 49/50\n",
      "44/44 [==============================] - 2s 34ms/step - loss: 2.2086e-04 - accuracy: 1.0000 - val_loss: 1.4018 - val_accuracy: 0.7700\n",
      "Epoch 50/50\n",
      "44/44 [==============================] - 2s 37ms/step - loss: 1.5429e-04 - accuracy: 1.0000 - val_loss: 1.4181 - val_accuracy: 0.7700\n"
     ]
    }
   ],
   "source": [
    "batch_size=16\n",
    "history = model.fit(X_train, y_train, batch_size=batch_size, epochs=50, validation_data=(X_test, y_test))"
   ]
  },
  {
   "cell_type": "code",
   "execution_count": 18,
   "id": "b39785f1",
   "metadata": {},
   "outputs": [
    {
     "name": "stdout",
     "output_type": "stream",
     "text": [
      "19/19 - 0s - loss: 1.4181 - accuracy: 0.7700 - 208ms/epoch - 11ms/step\n",
      "10/10 [==============================] - 2s 11ms/step\n"
     ]
    }
   ],
   "source": [
    "accuracy = model.evaluate(X_test, y_test, verbose=2, batch_size=batch_size)\n",
    "y_pred = model.predict(X_test)\n",
    "y_pred=np.argmax(y_pred, axis=1)\n",
    "y_test = np.argmax(y_test, axis=1)"
   ]
  },
  {
   "cell_type": "code",
   "execution_count": 19,
   "id": "3584878c",
   "metadata": {},
   "outputs": [
    {
     "name": "stderr",
     "output_type": "stream",
     "text": [
      "C:\\Users\\USER\\AppData\\Roaming\\Python\\Python311\\site-packages\\keras\\src\\engine\\training.py:3079: UserWarning: You are saving your model as an HDF5 file via `model.save()`. This file format is considered legacy. We recommend using instead the native Keras format, e.g. `model.save('my_model.keras')`.\n",
      "  saving_api.save_model(\n"
     ]
    }
   ],
   "source": [
    "model.save('TestModelFix.h5')"
   ]
  },
  {
   "cell_type": "code",
   "execution_count": 20,
   "id": "5798edba",
   "metadata": {},
   "outputs": [
    {
     "name": "stderr",
     "output_type": "stream",
     "text": [
      "C:\\Users\\USER\\AppData\\Local\\Temp\\ipykernel_8000\\3693833749.py:4: UserWarning: color is redundantly defined by the 'color' keyword argument and the fmt string \"b\" (-> color=(0.0, 0.0, 1.0, 1)). The keyword argument will take precedence.\n",
      "  plt.plot(epochs, history.history['loss'], 'b', label='training loss', color='red')\n"
     ]
    },
    {
     "data": {
      "image/png": "[encoded data removed]",
      "text/plain": [
       "<Figure size 1600x500 with 1 Axes>"
      ]
     },
     "metadata": {},
     "output_type": "display_data"
    }
   ],
   "source": [
    "# kofigurasi percobaan model kurva loss\n",
    "plt.figure(figsize=(16,5))\n",
    "epochs = range(1, len(history.history['accuracy'])+1)\n",
    "plt.plot(epochs, history.history['loss'], 'b', label='training loss', color='red')\n",
    "plt.plot(epochs, history.history['val_loss'], 'b', label='validation loss')\n",
    "plt.legend()\n",
    "plt.show()"
   ]
  },
  {
   "cell_type": "code",
   "execution_count": 21,
   "id": "dcb09af9",
   "metadata": {},
   "outputs": [
    {
     "name": "stderr",
     "output_type": "stream",
     "text": [
      "C:\\Users\\USER\\AppData\\Local\\Temp\\ipykernel_8000\\2886365301.py:4: UserWarning: color is redundantly defined by the 'color' keyword argument and the fmt string \"b\" (-> color=(0.0, 0.0, 1.0, 1)). The keyword argument will take precedence.\n",
      "  plt.plot(epochs, history.history['accuracy'], 'b', label='training accuracy', color='red')\n"
     ]
    },
    {
     "data": {
      "image/png": "[encoded data removed]",
      "text/plain": [
       "<Figure size 1600x500 with 1 Axes>"
      ]
     },
     "metadata": {},
     "output_type": "display_data"
    }
   ],
   "source": [
    "# kofigurasi percobaan model kurva accuracy\n",
    "plt.figure(figsize=(16,5))\n",
    "epochs = range(1, len(history.history['accuracy'])+1)\n",
    "plt.plot(epochs, history.history['accuracy'], 'b', label='training accuracy', color='red')\n",
    "plt.plot(epochs, history.history['val_accuracy'], 'b', label='validation accuracy')\n",
    "plt.legend(loc='lower right')\n",
    "plt.show()"
   ]
  },
  {
   "cell_type": "code",
   "execution_count": 22,
   "id": "dba82ab9",
   "metadata": {},
   "outputs": [
    {
     "name": "stdout",
     "output_type": "stream",
     "text": [
      "[[44  5  4  5  2]\n",
      " [ 1 42  7  5  5]\n",
      " [ 5  4 43  1  7]\n",
      " [ 4  0  0 54  2]\n",
      " [ 3  5  3  1 48]]\n"
     ]
    }
   ],
   "source": [
    "from sklearn.metrics import confusion_matrix, classification_report\n",
    "cm = confusion_matrix(y_test,y_pred)\n",
    "print(cm)"
   ]
  },
  {
   "cell_type": "code",
   "execution_count": 23,
   "id": "a8a1f272",
   "metadata": {},
   "outputs": [
    {
     "name": "stdout",
     "output_type": "stream",
     "text": [
      "              precision    recall  f1-score   support\n",
      "\n",
      "       Happy       0.77      0.73      0.75        60\n",
      "     Sadness       0.75      0.70      0.72        60\n",
      "       Anger       0.75      0.72      0.74        60\n",
      "        Love       0.82      0.90      0.86        60\n",
      "        Fear       0.75      0.80      0.77        60\n",
      "\n",
      "    accuracy                           0.77       300\n",
      "   macro avg       0.77      0.77      0.77       300\n",
      "weighted avg       0.77      0.77      0.77       300\n",
      "\n"
     ]
    }
   ],
   "source": [
    "print(classification_report(y_test, y_pred, target_names=['Happy', 'Sadness', 'Anger', 'Love', 'Fear']))"
   ]
  }
 ],
 "metadata": {
  "kernelspec": {
   "display_name": "Python 3",
   "language": "python",
   "name": "python3"
  },
  "language_info": {
   "codemirror_mode": {
    "name": "ipython",
    "version": 3
   },
   "file_extension": ".py",
   "mimetype": "text/x-python",
   "name": "python",
   "nbconvert_exporter": "python",
   "pygments_lexer": "ipython3",
   "version": "3.11.3"
  }
 },
 "nbformat": 4,
 "nbformat_minor": 5
}
